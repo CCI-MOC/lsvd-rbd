{
 "cells": [
  {
   "cell_type": "code",
   "execution_count": 1,
   "id": "36a2f4d9-a4c6-4409-8780-518b7919cff3",
   "metadata": {},
   "outputs": [],
   "source": [
    "%matplotlib inline\n",
    "import matplotlib\n",
    "import matplotlib.pyplot as plt\n",
    "import re"
   ]
  },
  {
   "cell_type": "code",
   "execution_count": 2,
   "id": "85028ec7-b076-4dcf-807e-5a735e4202a5",
   "metadata": {},
   "outputs": [],
   "source": [
    "path = '/home/isaackhor/code/lsvd-rbd/experiments/results/2024-01-09T22:10:51.lsvd-240.rssd2.txt'\n",
    "\n",
    "with open(path, 'r') as f:\n",
    "    content = f.readlines()"
   ]
  },
  {
   "cell_type": "code",
   "execution_count": 6,
   "id": "62353d51-d051-485d-a65c-f956fb038148",
   "metadata": {},
   "outputs": [
    {
     "name": "stdout",
     "output_type": "stream",
     "text": [
      "64\n",
      "40\n"
     ]
    }
   ],
   "source": [
    "fio_runs_linenums = [ln for ln,l in enumerate(content) if l.startswith('===Fio: workload=') and not 'iops_limit' in l]\n",
    "fio_runs = [content[ln:ln+34] for ln in fio_runs_linenums]\n",
    "print(len(fio_runs))\n",
    "\n",
    "fio_runs_iops_ln = [ln for ln,l in enumerate(content) if l.startswith('===Fio: workload') and 'iops_limit' in l]\n",
    "fio_runs_iops = [content[ln:ln+34] for ln in fio_runs_iops_ln]\n",
    "print(len(fio_runs_iops))"
   ]
  },
  {
   "cell_type": "code",
   "execution_count": 15,
   "id": "e4a61f5a-61dd-4746-bc0c-a55dbf800168",
   "metadata": {},
   "outputs": [
    {
     "data": {
      "text/plain": [
       "{'workload': 'randread',\n",
       " 'iodepth': '128',\n",
       " 'bs': 4,\n",
       " 'iops_limit': 10000,\n",
       " 'lat1': ' 102',\n",
       " 'lat50': ' 133',\n",
       " 'lat99': ' 265',\n",
       " 'bw': '39.1',\n",
       " 'iops': 9999}"
      ]
     },
     "execution_count": 15,
     "metadata": {},
     "output_type": "execute_result"
    }
   ],
   "source": [
    "# Example output: \n",
    "# ===Fio: workload=randread, time=30, iodepth=128, bs=4ki, iops_limit=80000===\n",
    "\n",
    "# j1: (g=0): rw=randread, bs=(R) 4096B-4096B, (W) 4096B-4096B, (T) 4096B-4096B, ioengine=io_uring, iodepth=128\n",
    "# fio-3.28\n",
    "# Starting 1 process\n",
    "\n",
    "# j1: (groupid=0, jobs=1): err= 0: pid=718801: Tue Jan  9 22:34:43 2024\n",
    "#   read: IOPS=68.4k, BW=267MiB/s (280MB/s)(8015MiB/30002msec)\n",
    "#     slat (usec): min=4, max=7305, avg=12.24, stdev=27.20\n",
    "#     clat (usec): min=160, max=9364, avg=1857.23, stdev=275.31\n",
    "#      lat (usec): min=172, max=9372, avg=1869.72, stdev=275.76\n",
    "#     clat percentiles (usec):\n",
    "#      |  1.00th=[ 1090],  5.00th=[ 1467], 10.00th=[ 1582], 20.00th=[ 1680],\n",
    "#      | 30.00th=[ 1745], 40.00th=[ 1795], 50.00th=[ 1860], 60.00th=[ 1909],\n",
    "#      | 70.00th=[ 1958], 80.00th=[ 2024], 90.00th=[ 2147], 95.00th=[ 2245],\n",
    "#      | 99.00th=[ 2737], 99.50th=[ 3064], 99.90th=[ 3228], 99.95th=[ 3326],\n",
    "#      | 99.99th=[ 4146]\n",
    "#    bw (  KiB/s): min=241832, max=303440, per=100.00%, avg=273738.31, stdev=16823.30, samples=59\n",
    "#    iops        : min=60458, max=75860, avg=68434.61, stdev=4205.87, samples=59\n",
    "#   lat (usec)   : 250=0.01%, 500=0.01%, 750=0.01%, 1000=0.41%\n",
    "#   lat (msec)   : 2=75.83%, 4=23.74%, 10=0.01%\n",
    "#   cpu          : usr=19.12%, sys=56.28%, ctx=85160, majf=0, minf=138\n",
    "#   IO depths    : 1=0.1%, 2=0.1%, 4=0.1%, 8=0.1%, 16=0.1%, 32=0.1%, >=64=100.0%\n",
    "#      submit    : 0=0.0%, 4=100.0%, 8=0.0%, 16=0.0%, 32=0.0%, 64=0.0%, >=64=0.0%\n",
    "#      complete  : 0=0.0%, 4=100.0%, 8=0.0%, 16=0.0%, 32=0.0%, 64=0.0%, >=64=0.1%\n",
    "#      issued rwts: total=2051913,0,0,0 short=0,0,0,0 dropped=0,0,0,0\n",
    "#      latency   : target=0, window=0, percentile=100.00%, depth=128\n",
    "\n",
    "# Run status group 0 (all jobs):\n",
    "#    READ: bw=267MiB/s (280MB/s), 267MiB/s-267MiB/s (280MB/s-280MB/s), io=8015MiB (8405MB), run=30002-30002msec\n",
    "\n",
    "# Disk stats (read/write):\n",
    "#   nvme1n1: ios=0/0, merge=0/0, ticks=0/0, in_queue=0, util=0.00%\n",
    "\n",
    "# RESULT: Fio (iodepth=128; bs=4ki, iops_limit=80000) randread:  read: IOPS=68.4k, BW=267MiB/s (280MB/s)(8015MiB/30002msec)\n",
    "\n",
    "def extract_iolim_fio(fio_run: str):\n",
    "\tfio_info = dict()\n",
    "\n",
    "\tregex = 'workload=(.*?), time=(.*?), iodepth=(.*?), bs=(.*?), iops_limit=(.*?)==='\n",
    "\tworkload, _, iodepth, bs, iops_limit = re.search(regex, fio_run[0]).groups()\n",
    "\n",
    "\tfio_info['workload'] = workload\n",
    "\tfio_info['iodepth'] = iodepth\n",
    "\tfio_info['bs'] = int(bs[:-2])\n",
    "\tfio_info['iops_limit'] = int(iops_limit)\n",
    "\n",
    "\tfio_info['lat1'] = re.search('1.00th=\\[ (.*?)\\]', fio_run[12]).groups()[0]\n",
    "\tfio_info['lat50'] = re.search('50.00th=\\[ (.*?)\\]', fio_run[13]).groups()[0]\n",
    "\tfio_info['lat99'] = re.search('99.00th=\\[ (.*?)\\]', fio_run[15]).groups()[0]\n",
    "\n",
    "\tfio_info['bw'] = re.search('BW=(.*)MiB/s', fio_run[7]).groups()[0]\n",
    "\tx = re.search('IOPS=(.*),', fio_run[7]).groups()[0]\n",
    "\tfio_info['iops'] = int(1000*float(x.replace('k', ''))) if 'k' in x else int(x)\n",
    "\treturn fio_info\n",
    "\n",
    "extract_iolim_fio(fio_runs_iops[0])"
   ]
  },
  {
   "cell_type": "code",
   "execution_count": 18,
   "id": "afdd8c0d",
   "metadata": {},
   "outputs": [
    {
     "data": {
      "text/plain": [
       "[{'workload': 'randread',\n",
       "  'iodepth': '128',\n",
       "  'bs': 4,\n",
       "  'iops_limit': 10000,\n",
       "  'lat1': ' 102',\n",
       "  'lat50': ' 133',\n",
       "  'lat99': ' 265',\n",
       "  'bw': '39.1',\n",
       "  'iops': 9999},\n",
       " {'workload': 'randread',\n",
       "  'iodepth': '128',\n",
       "  'bs': 4,\n",
       "  'iops_limit': 20000,\n",
       "  'lat1': ' 108',\n",
       "  'lat50': ' 167',\n",
       "  'lat99': ' 314',\n",
       "  'bw': '78.1',\n",
       "  'iops': 20000},\n",
       " {'workload': 'randread',\n",
       "  'iodepth': '128',\n",
       "  'bs': 4,\n",
       "  'iops_limit': 30000,\n",
       "  'lat1': ' 131',\n",
       "  'lat50': ' 233',\n",
       "  'lat99': ' 412',\n",
       "  'bw': '117',\n",
       "  'iops': 30000},\n",
       " {'workload': 'randread',\n",
       "  'iodepth': '128',\n",
       "  'bs': 4,\n",
       "  'iops_limit': 40000,\n",
       "  'lat1': ' 155',\n",
       "  'lat50': ' 293',\n",
       "  'lat99': '1483',\n",
       "  'bw': '156',\n",
       "  'iops': 40000},\n",
       " {'workload': 'randread',\n",
       "  'iodepth': '128',\n",
       "  'bs': 4,\n",
       "  'iops_limit': 50000,\n",
       "  'lat1': ' 186',\n",
       "  'lat50': ' 469',\n",
       "  'lat99': '3195',\n",
       "  'bw': '195',\n",
       "  'iops': 50000},\n",
       " {'workload': 'randread',\n",
       "  'iodepth': '128',\n",
       "  'bs': 4,\n",
       "  'iops_limit': 60000,\n",
       "  'lat1': ' 322',\n",
       "  'lat50': '1074',\n",
       "  'lat99': '2900',\n",
       "  'bw': '234',\n",
       "  'iops': 60000},\n",
       " {'workload': 'randread',\n",
       "  'iodepth': '128',\n",
       "  'bs': 4,\n",
       "  'iops_limit': 90000,\n",
       "  'lat1': '1303',\n",
       "  'lat50': '1975',\n",
       "  'lat99': '2769',\n",
       "  'bw': '251',\n",
       "  'iops': 64200},\n",
       " {'workload': 'randread',\n",
       "  'iodepth': '128',\n",
       "  'bs': 4,\n",
       "  'iops_limit': 70000,\n",
       "  'lat1': '1037',\n",
       "  'lat50': '1860',\n",
       "  'lat99': '2802',\n",
       "  'bw': '263',\n",
       "  'iops': 67300},\n",
       " {'workload': 'randread',\n",
       "  'iodepth': '128',\n",
       "  'bs': 4,\n",
       "  'iops_limit': 80000,\n",
       "  'lat1': '1090',\n",
       "  'lat50': '1860',\n",
       "  'lat99': '2737',\n",
       "  'bw': '267',\n",
       "  'iops': 68400},\n",
       " {'workload': 'randread',\n",
       "  'iodepth': '128',\n",
       "  'bs': 4,\n",
       "  'iops_limit': 100000,\n",
       "  'lat1': '1090',\n",
       "  'lat50': '1778',\n",
       "  'lat99': '2507',\n",
       "  'bw': '279',\n",
       "  'iops': 71400}]"
      ]
     },
     "execution_count": 18,
     "metadata": {},
     "output_type": "execute_result"
    }
   ],
   "source": [
    "iops_runs_ex = [extract_iolim_fio(fio_run) for fio_run in fio_runs_iops]\n",
    "randread_runs = [r for r in iops_runs_ex if r['workload'] == 'randread']\n",
    "randread_runs = sorted(randread_runs, key=lambda x: x['iops'])\n",
    "randread_runs"
   ]
  },
  {
   "cell_type": "code",
   "execution_count": 20,
   "id": "e9d706a1",
   "metadata": {},
   "outputs": [],
   "source": [
    "iops = [r['iops'] for r in randread_runs]\n",
    "\n",
    "lat1s = [int(r['lat1']) for r in randread_runs]\n",
    "lat50s = [int(r['lat50']) for r in randread_runs]\n",
    "lat99s = [int(r['lat99']) for r in randread_runs]\n"
   ]
  },
  {
   "cell_type": "code",
   "execution_count": 23,
   "id": "b00f75c6",
   "metadata": {},
   "outputs": [
    {
     "name": "stdout",
     "output_type": "stream",
     "text": [
      "[9999, 20000, 30000, 40000, 50000, 60000, 64200, 67300, 68400, 71400]\n",
      "[102, 108, 131, 155, 186, 322, 1303, 1037, 1090, 1090]\n",
      "[133, 167, 233, 293, 469, 1074, 1975, 1860, 1860, 1778]\n",
      "[265, 314, 412, 1483, 3195, 2900, 2769, 2802, 2737, 2507]\n"
     ]
    },
    {
     "data": {
      "image/png": "[encoded data removed]",
      "text/plain": [
       "<Figure size 640x480 with 1 Axes>"
      ]
     },
     "metadata": {},
     "output_type": "display_data"
    }
   ],
   "source": [
    "print(iops)\n",
    "print(lat1s)\n",
    "print(lat50s)\n",
    "print(lat99s)\n",
    "\n",
    "plt.figure()\n",
    "plt.xlabel('IOPS')\n",
    "plt.ylabel('Latency (usec)')\n",
    "plt.title('Latency vs IOPS')\n",
    "plt.plot(iops, lat1s, label='1%')\n",
    "plt.plot(iops, lat50s, label='50%')\n",
    "plt.plot(iops, lat99s, label='99%')\n",
    "plt.legend()\n",
    "plt.show()"
   ]
  }
 ],
 "metadata": {
  "kernelspec": {
   "display_name": "Python 3 (ipykernel)",
   "language": "python",
   "name": "python3"
  },
  "language_info": {
   "codemirror_mode": {
    "name": "ipython",
    "version": 3
   },
   "file_extension": ".py",
   "mimetype": "text/x-python",
   "name": "python",
   "nbconvert_exporter": "python",
   "pygments_lexer": "ipython3",
   "version": "3.10.12"
  }
 },
 "nbformat": 4,
 "nbformat_minor": 5
}
